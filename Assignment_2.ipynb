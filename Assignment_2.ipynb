{
 "cells": [
  {
   "cell_type": "markdown",
   "metadata": {},
   "source": [
    "1.What are the two values of the Boolean data type? How do you write them?"
   ]
  },
  {
   "cell_type": "code",
   "execution_count": null,
   "metadata": {},
   "outputs": [],
   "source": [
    "True\n",
    "False"
   ]
  },
  {
   "cell_type": "markdown",
   "metadata": {},
   "source": [
    "2. What are the three different types of Boolean operators?"
   ]
  },
  {
   "cell_type": "code",
   "execution_count": null,
   "metadata": {},
   "outputs": [],
   "source": [
    "# and \n",
    "# or \n",
    "# not"
   ]
  },
  {
   "cell_type": "markdown",
   "metadata": {},
   "source": [
    "3. Make a list of each Boolean operator&#39;s truth tables (i.e. every possible combination of Boolean\n",
    "values for the operator and what it evaluate )."
   ]
  },
  {
   "cell_type": "code",
   "execution_count": null,
   "metadata": {},
   "outputs": [],
   "source": [
    "'''\n",
    "True and True = True\n",
    "True and False = False\n",
    "False and False = False\n",
    "\n",
    "False or False = False\n",
    "False or True = True\n",
    "True or False = True\n",
    "\n",
    "not True = False\n",
    "not False =True\n",
    "'''"
   ]
  },
  {
   "cell_type": "markdown",
   "metadata": {},
   "source": [
    "4. What are the values of the following expressions?<br>\n",
    "(5 &gt; 4) and (3 == 5)    <br>\n",
    "not (5 &gt; 4)<br>\n",
    "(5 &gt; 4) or (3 == 5)<br>\n",
    "not ((5 &gt; 4) or (3 == 5))<br>\n",
    "(True and True) and (True == False)<br>\n",
    "(not False) or (not True)<br>"
   ]
  },
  {
   "cell_type": "code",
   "execution_count": null,
   "metadata": {},
   "outputs": [],
   "source": [
    "'''\n",
    "False\n",
    "False\n",
    "True\n",
    "False\n",
    "False\n",
    "True\n",
    "'''"
   ]
  },
  {
   "cell_type": "markdown",
   "metadata": {},
   "source": [
    "5. What are the six comparison operators?"
   ]
  },
  {
   "cell_type": "code",
   "execution_count": null,
   "metadata": {},
   "outputs": [],
   "source": [
    "'''\n",
    "Operator\tName\t                        Example\t\n",
    "==\t        Equal\t                        x == y\t\n",
    "!=\t        Not equal\t                    x != y\t\n",
    ">\t        Greater than\t                x > y\t\n",
    "<\t        Less than\t                    x < y\t\n",
    ">=\t        Greater than or equal to\t    x >= y\t\n",
    "<=\t        Less than or equal to\t        x <= y\n",
    "'''"
   ]
  },
  {
   "cell_type": "markdown",
   "metadata": {},
   "source": [
    "6. How do you tell the difference between the equal to and assignment operators?Describe a\n",
    "condition and when you would use one."
   ]
  },
  {
   "cell_type": "code",
   "execution_count": null,
   "metadata": {},
   "outputs": [],
   "source": [
    "'''\n",
    "assignment operator : =\n",
    "equal to             :==\n",
    "\n",
    "    assignment operator is used to assign value while equal to operator compare two values whether both are same or not\n",
    "\n",
    "    e.g.  a=2   #assignment operator\n",
    "    e.g.  a==b  #equality operator\n",
    "'''"
   ]
  },
  {
   "cell_type": "markdown",
   "metadata": {},
   "source": [
    "7. Identify the three blocks in this code:<br>\n",
    "spam = 0<br>\n",
    "if spam == 10:<br>\n",
    "print(&#39;eggs&#39;)<br>\n",
    "if spam &gt; 5:<br>\n",
    "print(&#39;bacon&#39;)<br>\n",
    "else:<br>\n",
    "print(&#39;ham&#39;)<br>\n",
    "print(&#39;spam&#39;)<br>\n",
    "print(&#39;spam&#39;)<br>"
   ]
  },
  {
   "cell_type": "code",
   "execution_count": null,
   "metadata": {},
   "outputs": [],
   "source": [
    "'''\n",
    "        #block1\n",
    "spam = 0\n",
    "if spam == 10:\n",
    "print(&#39;eggs&#39;)\n",
    "\n",
    "        #block2\n",
    "if spam &gt; 5:\n",
    "print(&#39;bacon&#39;)\n",
    "\n",
    "        #block3\n",
    "else:\n",
    "print(&#39;ham&#39;)\n",
    "print(&#39;spam&#39;)\n",
    "print(&#39;spam&#39;)\n",
    "'''"
   ]
  },
  {
   "cell_type": "markdown",
   "metadata": {},
   "source": [
    "8. Write code that prints Hello if 1 is stored in spam, prints Howdy if 2 is stored in spam, and prints\n",
    "Greetings! if anything else is stored in spam."
   ]
  },
  {
   "cell_type": "code",
   "execution_count": 6,
   "metadata": {},
   "outputs": [
    {
     "name": "stdout",
     "output_type": "stream",
     "text": [
      "Hello\n"
     ]
    }
   ],
   "source": [
    "spam = 1    \n",
    "\n",
    "if spam ==1:\n",
    "    print('Hello')\n",
    "\n",
    "elif spam ==2:\n",
    "    print('Howdy')\n",
    "\n",
    "else:\n",
    "    print('Greetings!!')\n"
   ]
  },
  {
   "cell_type": "markdown",
   "metadata": {},
   "source": [
    "9.If your programme is stuck in an endless loop, what keys you’ll press?"
   ]
  },
  {
   "cell_type": "code",
   "execution_count": null,
   "metadata": {},
   "outputs": [],
   "source": [
    "# We can restart the kernal by pressing restart button above (using vs code)"
   ]
  },
  {
   "cell_type": "markdown",
   "metadata": {},
   "source": [
    "10. How can you tell the difference between break and continue?"
   ]
  },
  {
   "cell_type": "code",
   "execution_count": null,
   "metadata": {},
   "outputs": [],
   "source": [
    "'''\n",
    "break:\n",
    "        used to break out of current loop\n",
    "    \n",
    "continue:\n",
    "        used to skip the current iteration and go to next\n",
    "\n",
    "'''"
   ]
  },
  {
   "cell_type": "markdown",
   "metadata": {},
   "source": [
    "11. In a for loop, what is the difference between range(10), range(0, 10), and range(0, 10, 1)?"
   ]
  },
  {
   "cell_type": "code",
   "execution_count": null,
   "metadata": {},
   "outputs": [],
   "source": [
    "'''\n",
    "range(10): will give numbers from 0 to 0\n",
    "\n",
    "range(0,10): same as above\n",
    "\n",
    "range(0,10,1): same as above\n",
    "\n",
    "conclusion: There is no difference all are same\n",
    "\n",
    "\n",
    "'''"
   ]
  },
  {
   "cell_type": "markdown",
   "metadata": {},
   "source": [
    "12. Write a short program that prints the numbers 1 to 10 using a for loop. Then write an equivalent\n",
    "program that prints the numbers 1 to 10 using a while loop."
   ]
  },
  {
   "cell_type": "code",
   "execution_count": 8,
   "metadata": {},
   "outputs": [
    {
     "name": "stdout",
     "output_type": "stream",
     "text": [
      "1\n",
      "2\n",
      "3\n",
      "4\n",
      "5\n",
      "6\n",
      "7\n",
      "8\n",
      "9\n",
      "10\n"
     ]
    }
   ],
   "source": [
    "# using for loop\n",
    "\n",
    "for i in range(1,11):\n",
    "    print(i)\n",
    "\n",
    "\n",
    "#using while loop\n",
    "\n",
    "i=1\n",
    "\n",
    "while i<11:\n",
    "    print(i)\n",
    "    i=i+1"
   ]
  },
  {
   "cell_type": "markdown",
   "metadata": {},
   "source": [
    "\n",
    "13. If you had a function named bacon() inside a module named spam, how would you call it after\n",
    "importing spam?"
   ]
  },
  {
   "cell_type": "code",
   "execution_count": null,
   "metadata": {},
   "outputs": [],
   "source": []
  }
 ],
 "metadata": {
  "kernelspec": {
   "display_name": "Python 3.10.8 64-bit",
   "language": "python",
   "name": "python3"
  },
  "language_info": {
   "codemirror_mode": {
    "name": "ipython",
    "version": 3
   },
   "file_extension": ".py",
   "mimetype": "text/x-python",
   "name": "python",
   "nbconvert_exporter": "python",
   "pygments_lexer": "ipython3",
   "version": "3.10.8"
  },
  "orig_nbformat": 4,
  "vscode": {
   "interpreter": {
    "hash": "9d3fd1bfc559c004df93a3db94a041928962a1cb951bce00bee23d3fe8bc3000"
   }
  }
 },
 "nbformat": 4,
 "nbformat_minor": 2
}
