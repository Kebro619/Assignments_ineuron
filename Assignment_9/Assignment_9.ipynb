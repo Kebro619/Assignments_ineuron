{
 "cells": [
  {
   "cell_type": "code",
   "execution_count": 9,
   "metadata": {},
   "outputs": [],
   "source": [
    "import sqlite3\n",
    "import pandas as pd\n",
    "import csv\n",
    "from sqlalchemy import create_engine"
   ]
  },
  {
   "cell_type": "markdown",
   "metadata": {},
   "source": [
    "1. Set the variable test1 to the string &#39;This is a test of the emergency text system,&#39; and save test1 to a\n",
    "file named test.txt."
   ]
  },
  {
   "cell_type": "code",
   "execution_count": 1,
   "metadata": {},
   "outputs": [],
   "source": [
    "test1 = \"This is a test of the emergency text system,\"\n",
    "\n",
    "with open('test.txt', 'w') as file:\n",
    "    file.write(test1)"
   ]
  },
  {
   "cell_type": "markdown",
   "metadata": {},
   "source": [
    "2. Read the contents of the file test.txt into the variable test2. Is there a difference between test 1\n",
    "and test 2?"
   ]
  },
  {
   "cell_type": "code",
   "execution_count": 2,
   "metadata": {},
   "outputs": [
    {
     "name": "stdout",
     "output_type": "stream",
     "text": [
      "both are same\n"
     ]
    }
   ],
   "source": [
    "with open('test.txt', 'r') as f:\n",
    "          test2 = f.read()\n",
    "          \n",
    "if test1 == test2:\n",
    "        print(\"both are same\")\n",
    "\n",
    "else:\n",
    "        print('Both are different')"
   ]
  },
  {
   "cell_type": "markdown",
   "metadata": {},
   "source": [
    "3. Create a CSV file called books.csv by using these lines:<br>\n",
    "title,author,year<br>\n",
    "The Weirdstone of Brisingamen,Alan Garner,1960<br>\n",
    "Perdido Street Station,China Miéville,2000<br>\n",
    "Thud!,Terry Pratchett,2005<br>\n",
    "The Spellman Files,Lisa Lutz,2007<br>\n",
    "Small Gods,Terry Pratchett,1992"
   ]
  },
  {
   "cell_type": "code",
   "execution_count": 3,
   "metadata": {},
   "outputs": [],
   "source": [
    "data = [\n",
    "    [\"The Weirdstone of Brisingamen\", \"Alan Garner\", 1960],\n",
    "    [\"Perdido Street Station\", \"China Mieville\", 2000],\n",
    "    [\"Thud!\", \"Terry Pratchett\", 2005],\n",
    "    [\"The Spellman Files\", \"Lisa Lutz\", 2007]\n",
    "]\n",
    "\n",
    "csv_file = 'books.csv'\n",
    "\n",
    "with open(csv_file, mode='w', newline='') as f:\n",
    "    writer = csv.writer(f)\n",
    "\n",
    "\n",
    "    # write the header\n",
    "    writer.writerow([\"title\", \"author\", \"year\"])\n",
    "\n",
    "    # write the data\n",
    "    writer.writerows(data)"
   ]
  },
  {
   "cell_type": "markdown",
   "metadata": {},
   "source": [
    "4. Use the sqlite3 module to create a SQLite database called books.db, and a table called books with\n",
    "these fields: title (text), author (text), and year (integer)."
   ]
  },
  {
   "cell_type": "code",
   "execution_count": 4,
   "metadata": {},
   "outputs": [
    {
     "name": "stdout",
     "output_type": "stream",
     "text": [
      "Database and table created successfully!\n"
     ]
    }
   ],
   "source": [
    "conn = sqlite3.connect('books.db')\n",
    "\n",
    "cursor = conn.cursor()\n",
    "\n",
    "cursor.execute(\"\"\"CREATE TABLE IF NOT EXISTS books (\n",
    "                 title TEXT NOT NULL,\n",
    "                 author TEXT NOT NULL,\n",
    "                 year INTEGER NOT NULL\n",
    "             )\"\"\")\n",
    "\n",
    "conn.commit()\n",
    "conn.close()\n",
    "\n",
    "print(\"Database and table created successfully!\")"
   ]
  },
  {
   "cell_type": "markdown",
   "metadata": {},
   "source": [
    "5. Read books.csv and insert its data into the book table."
   ]
  },
  {
   "cell_type": "code",
   "execution_count": 6,
   "metadata": {},
   "outputs": [
    {
     "name": "stdout",
     "output_type": "stream",
     "text": [
      "('The Weirdstone of Brisingamen', 'Alan Garner', 1960)\n",
      "('Perdido Street Station', 'China Mieville', 2000)\n",
      "('Thud!', 'Terry Pratchett', 2005)\n",
      "('The Spellman Files', 'Lisa Lutz', 2007)\n"
     ]
    }
   ],
   "source": [
    "conn = sqlite3.connect('books.db')\n",
    "\n",
    "# Create a cursor object to execute SQL queries\n",
    "cursor = conn.cursor()\n",
    "\n",
    "# Read data from the CSV file into a DataFrame\n",
    "csv_file = 'books.csv'\n",
    "df = pd.read_csv(csv_file)\n",
    "\n",
    "# Insert data into the 'books' table\n",
    "insert_query = \"INSERT INTO books (title, author, year) VALUES (?, ?, ?)\"\n",
    "data = df.values.tolist()\n",
    "cursor.executemany(insert_query, data)\n",
    "\n",
    "# Commit the changes\n",
    "conn.commit()\n",
    "\n",
    "# Now, read and print the data from the 'books' table\n",
    "select_query = 'SELECT * FROM books'\n",
    "cursor.execute(select_query)\n",
    "rows = cursor.fetchall()\n",
    "\n",
    "# Print the data\n",
    "for row in rows:\n",
    "    print(row)\n",
    "\n",
    "# Close the connection\n",
    "conn.close()\n"
   ]
  },
  {
   "cell_type": "markdown",
   "metadata": {},
   "source": [
    "6. Select and print the title column from the book table in alphabetical order."
   ]
  }
 ],
 "metadata": {
  "kernelspec": {
   "display_name": "Python 3",
   "language": "python",
   "name": "python3"
  },
  "language_info": {
   "codemirror_mode": {
    "name": "ipython",
    "version": 3
   },
   "file_extension": ".py",
   "mimetype": "text/x-python",
   "name": "python",
   "nbconvert_exporter": "python",
   "pygments_lexer": "ipython3",
   "version": "0.0.0"
  }
 },
 "nbformat": 4,
 "nbformat_minor": 2
}
