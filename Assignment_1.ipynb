{
 "cells": [
  {
   "cell_type": "markdown",
   "metadata": {},
   "source": [
    "1. In the below elements which of them are values or an expression? eg:- values can be\n",
    "integer or string and expressions will be mathematical operators.\n",
    "\n",
    "*  (*)\n",
    "* 'hello'\n",
    "* -87.8\n",
    "* *-*\n",
    "* /\n",
    "* *+*\n",
    "* 6\n"
   ]
  },
  {
   "cell_type": "code",
   "execution_count": null,
   "metadata": {},
   "outputs": [],
   "source": [
    "'''\n",
    "*       - Mathematical Operation(multiplication)\n",
    "\n",
    "'hello' - value (string)\n",
    "-87.8   - value (float)\n",
    "-        - Mathematical operation (substraction)\n",
    "/       -  Mathematical Operation (division)\n",
    "+       - Mathematical Opeation(addition)\n",
    "6        - Value (integer)\n",
    "'''"
   ]
  },
  {
   "cell_type": "markdown",
   "metadata": {},
   "source": [
    "2. What is the difference between string and variable?"
   ]
  },
  {
   "cell_type": "code",
   "execution_count": null,
   "metadata": {},
   "outputs": [],
   "source": [
    "'''\n",
    "Variable is just the container to store the values it can store any type of data ,\n",
    "while string is just the sequence of characters they can be stored in variables\n",
    "'''"
   ]
  },
  {
   "cell_type": "markdown",
   "metadata": {},
   "source": [
    "3. Describe three different data types."
   ]
  },
  {
   "cell_type": "code",
   "execution_count": null,
   "metadata": {},
   "outputs": [],
   "source": [
    "'''\n",
    "1.String :\n",
    "    They are sequence of characters written inside single,double or triple quotes\n",
    "    e.g. \"Keshav Karki\", \"21\"\n",
    "\n",
    "2.Integers: \n",
    "    They are numerical data without decimals \n",
    "    e.g.  21,33\n",
    "\n",
    "3.Floats : \n",
    "    They are numerical data with decimals\n",
    "    e.g.  21.3 ,2.3\n",
    "'''"
   ]
  },
  {
   "cell_type": "markdown",
   "metadata": {},
   "source": [
    "4. What is an expression made up of? What do all expressions do?"
   ]
  },
  {
   "cell_type": "code",
   "execution_count": null,
   "metadata": {},
   "outputs": [],
   "source": [
    "'''\n",
    "Expressions are made up of same or different mathematical operations with values or variables  , All expressions  evaluates values of given variables \n",
    "eg.  2+2 =4 , x**2\n",
    "'''"
   ]
  },
  {
   "cell_type": "markdown",
   "metadata": {},
   "source": [
    "5. This assignment statements, like spam = 10. What is the difference between an\n",
    "expression and a statement?"
   ]
  },
  {
   "cell_type": "code",
   "execution_count": null,
   "metadata": {},
   "outputs": [],
   "source": [
    "'''\n",
    "Expressions are combination of some values and variables or function and they returns some value.\n",
    " while  statements are  just a regular sentence or assignment of values,\n",
    "Here in above example spam =10 is  not evaluationg or returning any value just assigning value as 10 to variable name spam .\n",
    "'''"
   ]
  },
  {
   "cell_type": "markdown",
   "metadata": {},
   "source": [
    "6. After running the following code, what does the variable bacon contain?\n",
    "bacon = 22\n",
    "bacon + 1"
   ]
  },
  {
   "cell_type": "code",
   "execution_count": 1,
   "metadata": {},
   "outputs": [
    {
     "data": {
      "text/plain": [
       "23"
      ]
     },
     "execution_count": 1,
     "metadata": {},
     "output_type": "execute_result"
    }
   ],
   "source": [
    "bacon = 22\n",
    "bacon + 1\n",
    "\n",
    "\n",
    "# It will give value as 22 only we didn't assign new value to bacon "
   ]
  },
  {
   "cell_type": "markdown",
   "metadata": {},
   "source": [
    "7. What should the values of the following two terms be?\n",
    "\n",
    "`'spam'+'spamspam'`  <br>\n",
    "\n",
    "`'spam'`*3"
   ]
  },
  {
   "cell_type": "code",
   "execution_count": null,
   "metadata": {},
   "outputs": [],
   "source": [
    "'''\n",
    "value of first term should  be 'spamspamspam' ,\n",
    "\n",
    "value of second term should be 'spamspamspam'\n",
    "\n",
    "both are same one is exapmple of concatenation and other if of duplication\n",
    "'''"
   ]
  },
  {
   "cell_type": "markdown",
   "metadata": {},
   "source": [
    "8. Why is eggs a valid variable name while 100 is invalid?"
   ]
  },
  {
   "cell_type": "code",
   "execution_count": null,
   "metadata": {},
   "outputs": [],
   "source": [
    "# as per rules of variable naming in python variable name can not starts with digits hence eggs is a valid variable name while 100 is invalid name"
   ]
  },
  {
   "cell_type": "markdown",
   "metadata": {},
   "source": [
    "9. What three functions can be used to get the integer, floating-point number, or string\n",
    "version of a value?"
   ]
  },
  {
   "cell_type": "code",
   "execution_count": 4,
   "metadata": {},
   "outputs": [
    {
     "data": {
      "text/plain": [
       "'2'"
      ]
     },
     "execution_count": 4,
     "metadata": {},
     "output_type": "execute_result"
    }
   ],
   "source": [
    "number = input('Enter the number ')\n",
    "\n",
    "int(number)\n",
    "\n",
    "float(number)\n",
    "\n",
    "str(number)\n",
    "\n",
    "# int, float and str are three functions can be used to get the values as integer float and string version of values"
   ]
  },
  {
   "cell_type": "markdown",
   "metadata": {},
   "source": [
    "10. Why does this expression cause an error? How can you fix it? <br>\n",
    "&#39;I have eaten &#39; + 99 + &#39; burritos.&#39;"
   ]
  },
  {
   "cell_type": "code",
   "execution_count": 9,
   "metadata": {},
   "outputs": [
    {
     "data": {
      "text/plain": [
       "'I have eaten99burritos.'"
      ]
     },
     "execution_count": 9,
     "metadata": {},
     "output_type": "execute_result"
    }
   ],
   "source": [
    "s='I have eaten'+99+'burritos.'\n",
    "\n",
    "# we will get error since we can not concatenate str and int together hence we need to covert int type value to str type first \n",
    "\n",
    "s='I have eaten'+'99'+'burritos.'\n"
   ]
  }
 ],
 "metadata": {
  "kernelspec": {
   "display_name": "Python 3.10.8 64-bit",
   "language": "python",
   "name": "python3"
  },
  "language_info": {
   "codemirror_mode": {
    "name": "ipython",
    "version": 3
   },
   "file_extension": ".py",
   "mimetype": "text/x-python",
   "name": "python",
   "nbconvert_exporter": "python",
   "pygments_lexer": "ipython3",
   "version": "3.10.8"
  },
  "orig_nbformat": 4,
  "vscode": {
   "interpreter": {
    "hash": "9d3fd1bfc559c004df93a3db94a041928962a1cb951bce00bee23d3fe8bc3000"
   }
  }
 },
 "nbformat": 4,
 "nbformat_minor": 2
}
